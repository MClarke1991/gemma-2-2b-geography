{
 "cells": [
  {
   "cell_type": "code",
   "execution_count": null,
   "metadata": {},
   "outputs": [],
   "source": [
    "import pandas as pd\n",
    "import numpy as np\n",
    "from sklearn.ensemble import RandomForestClassifier\n",
    "from sklearn.model_selection import train_test_split\n",
    "import matplotlib.pyplot as plt\n",
    "import seaborn as sns\n",
    "import pandas as pd\n",
    "import numpy as np\n",
    "from sklearn.preprocessing import StandardScaler\n",
    "from sklearn.decomposition import PCA\n",
    "import matplotlib.pyplot as plt\n",
    "import re\n",
    "import os"
   ]
  },
  {
   "cell_type": "code",
   "execution_count": null,
   "metadata": {},
   "outputs": [],
   "source": [
    "results_dir = 'results/'\n",
    "fig_dir = os.path.join('figures/')\n",
    "box_dir = os.path.join(fig_dir, 'box_dir/')\n",
    "default_width = 1000\n",
    "default_height = 750\n",
    "\n",
    "if not os.path.exists(fig_dir):\n",
    "    os.makedirs(fig_dir)\n",
    "\n",
    "if not os.path.exists(box_dir):\n",
    "    os.makedirs(box_dir)"
   ]
  },
  {
   "cell_type": "code",
   "execution_count": null,
   "metadata": {},
   "outputs": [],
   "source": [
    "data = pd.read_csv(os.path.join(results_dir,'transformed_distance_query_results_root_Los_Angeles-_CA.csv'))"
   ]
  },
  {
   "cell_type": "code",
   "execution_count": null,
   "metadata": {},
   "outputs": [],
   "source": [
    "def add_confident_column(df):\n",
    "    def classify_distance(distance):\n",
    "        # Convert to string to handle both float and int\n",
    "        distance_str = str(distance)\n",
    "        \n",
    "        # Check if the distance ends with two zeros before the decimal point\n",
    "        if re.search(r'00\\.?0*$', distance_str):\n",
    "            return 'guess'\n",
    "        else:\n",
    "            return 'confident'\n",
    "    \n",
    "    df['confidence'] = df['extracted_digits'].apply(classify_distance)\n",
    "    return df\n",
    "    \n",
    "data = add_confident_column(data)"
   ]
  },
  {
   "cell_type": "code",
   "execution_count": null,
   "metadata": {},
   "outputs": [],
   "source": [
    "confidence_cluster_classifier = [3461, 4563, 7804, 14813, 2453, 13496, 2558, 11464, 1615, 8690]\n",
    "\n",
    "# filter data to be only index in confidence_cluster_2, sae_layer_21 and feature_type = end\n",
    "filter_data = data[(data['index'].isin(confidence_cluster_classifier)) & (data['sae_layer'] == 21) & (data['feature_type'] == 'end')]"
   ]
  },
  {
   "cell_type": "code",
   "execution_count": null,
   "metadata": {},
   "outputs": [],
   "source": [
    "filter_data"
   ]
  },
  {
   "cell_type": "code",
   "execution_count": null,
   "metadata": {},
   "outputs": [],
   "source": [
    "filter_data.head()"
   ]
  },
  {
   "cell_type": "code",
   "execution_count": null,
   "metadata": {},
   "outputs": [],
   "source": [
    "# fig.write_image(os.path.join(dist_dir, \"scatter_obs_vs_expec_dist.png\"), scale = 3.0)\n",
    "# fig.write_image('test.png', scale = 3.0)"
   ]
  },
  {
   "cell_type": "code",
   "execution_count": null,
   "metadata": {},
   "outputs": [],
   "source": [
    "import re\n",
    "import pandas as pd\n",
    "import matplotlib.pyplot as plt\n",
    "import seaborn as sns\n",
    "from scipy import stats\n",
    "\n",
    "df = filter_data.copy()\n",
    "\n",
    "# Get unique indices\n",
    "unique_indices = df['index'].unique()\n",
    "\n",
    "# Color palette\n",
    "color_palette = {'guess': 'lightblue', 'confident': 'lightcoral'}\n",
    "\n",
    "# Create a separate plot for each index\n",
    "for index in unique_indices:\n",
    "    # Filter data for the current index\n",
    "    index_data = df[df['index'] == index]\n",
    "    \n",
    "    # Create the plot\n",
    "    plt.figure(figsize=(6, 6))\n",
    "    \n",
    "    # Create the violin plot\n",
    "    sns.violinplot(data=index_data, x='confidence', y='activation', \n",
    "                   inner=\"box\", palette=color_palette)\n",
    "    \n",
    "    plt.title(f'Activation Distribution for Index: {index}', fontsize=16)\n",
    "    plt.xlabel('Confidence', fontsize=12)\n",
    "    plt.ylabel('Activation', fontsize=12)\n",
    "    \n",
    "    # Perform Mann-Whitney U test\n",
    "    confident = index_data[index_data['confidence'] == 'confident']['activation']\n",
    "    guess = index_data[index_data['confidence'] == 'guess']['activation']\n",
    "    \n",
    "    if len(confident) > 0 and len(guess) > 0:\n",
    "        statistic, p_value = stats.mannwhitneyu(confident, guess, alternative='two-sided')\n",
    "        \n",
    "        y_max = index_data['activation'].max()\n",
    "        y_min = index_data['activation'].min()\n",
    "        y_range = y_max - y_min\n",
    "        \n",
    "        plt.plot([0, 1], [y_max + y_range * 0.05] * 2, color='black')\n",
    "        plt.text(0.5, y_max + y_range * 0.07, f'p={p_value:.3f}', ha='center')\n",
    "\n",
    "    plt.tight_layout()\n",
    "    plt.savefig(os.path.join(box_dir, f'feature_importance_layer_21_type_end_feature_{index}.png'), dpi = 300)\n",
    "    plt.show()\n",
    "\n",
    "# Print summary statistics\n",
    "print(df.groupby(['index', 'confidence'])['activation'].describe())"
   ]
  }
 ],
 "metadata": {
  "kernelspec": {
   "display_name": ".venv",
   "language": "python",
   "name": "python3"
  },
  "language_info": {
   "codemirror_mode": {
    "name": "ipython",
    "version": 3
   },
   "file_extension": ".py",
   "mimetype": "text/x-python",
   "name": "python",
   "nbconvert_exporter": "python",
   "pygments_lexer": "ipython3",
   "version": "3.10.12"
  }
 },
 "nbformat": 4,
 "nbformat_minor": 2
}
